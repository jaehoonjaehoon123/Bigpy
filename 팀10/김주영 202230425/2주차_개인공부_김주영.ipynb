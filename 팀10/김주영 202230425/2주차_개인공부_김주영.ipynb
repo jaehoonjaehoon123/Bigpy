{
 "cells": [
  {
   "cell_type": "markdown",
   "id": "d9bd6906",
   "metadata": {},
   "source": [
    "##02-4 튜플 자료형"
   ]
  },
  {
   "cell_type": "code",
   "execution_count": 2,
   "id": "518c93da",
   "metadata": {},
   "outputs": [],
   "source": [
    "t1 = ()\n",
    "t2 = (1, ) #요소 하나일 땐 뒤에 쉼표\n",
    "t3 = (1, 2, 3)\n",
    "t4 = 1, 2, 3 #소괄호 생략 가능\n",
    "t5 = ('a', 'b', ('ab', 'cd'))\n",
    "#요솟값 변화 불가능"
   ]
  },
  {
   "cell_type": "code",
   "execution_count": 4,
   "id": "1477c120",
   "metadata": {},
   "outputs": [],
   "source": [
    "t1 = (1, 2, 'a', 'b')\n",
    "#del t1[0] #튜플이므로 요솟값 지울 수 없음"
   ]
  },
  {
   "cell_type": "code",
   "execution_count": 6,
   "id": "4219e2ae",
   "metadata": {},
   "outputs": [
    {
     "name": "stdout",
     "output_type": "stream",
     "text": [
      "1\n",
      "b\n"
     ]
    }
   ],
   "source": [
    "# 인덱싱\n",
    "print(t1[0])\n",
    "print(t1[3])"
   ]
  },
  {
   "cell_type": "code",
   "execution_count": 7,
   "id": "64b8140b",
   "metadata": {},
   "outputs": [
    {
     "data": {
      "text/plain": [
       "(2, 'a', 'b')"
      ]
     },
     "execution_count": 7,
     "metadata": {},
     "output_type": "execute_result"
    }
   ],
   "source": [
    "# 슬라이싱\n",
    "t1[1:]"
   ]
  },
  {
   "cell_type": "code",
   "execution_count": 9,
   "id": "0ad80479",
   "metadata": {},
   "outputs": [
    {
     "data": {
      "text/plain": [
       "(1, 2, 'a', 'b', 3, 4)"
      ]
     },
     "execution_count": 9,
     "metadata": {},
     "output_type": "execute_result"
    }
   ],
   "source": [
    "# 튜플 더하기\n",
    "t1 = (1, 2, 'a', 'b')\n",
    "t2 = (3, 4)\n",
    "t3 = t1 + t2\n",
    "t3"
   ]
  },
  {
   "cell_type": "code",
   "execution_count": 10,
   "id": "cedaadad",
   "metadata": {},
   "outputs": [
    {
     "data": {
      "text/plain": [
       "(3, 4, 3, 4, 3, 4)"
      ]
     },
     "execution_count": 10,
     "metadata": {},
     "output_type": "execute_result"
    }
   ],
   "source": [
    "# 튜플 곱하기\n",
    "t2 = (3, 4)\n",
    "t3 = t2 * 3\n",
    "t3"
   ]
  },
  {
   "cell_type": "code",
   "execution_count": 11,
   "id": "6b0f971a",
   "metadata": {},
   "outputs": [
    {
     "data": {
      "text/plain": [
       "4"
      ]
     },
     "execution_count": 11,
     "metadata": {},
     "output_type": "execute_result"
    }
   ],
   "source": [
    "#튜플 길이 구하기\n",
    "t1 = (1, 2, 'a', 'b')\n",
    "len(t1)"
   ]
  },
  {
   "cell_type": "code",
   "execution_count": 12,
   "id": "175b0c5e",
   "metadata": {},
   "outputs": [],
   "source": [
    "# 튜플은 요솟값 변경 불가능 -> sort, insert, remove, pop 내장 함수 x"
   ]
  },
  {
   "cell_type": "markdown",
   "id": "bea57a5e",
   "metadata": {},
   "source": [
    "##02-5 딕셔너리 자료형 (사전)"
   ]
  },
  {
   "cell_type": "code",
   "execution_count": 18,
   "id": "b165b79b",
   "metadata": {},
   "outputs": [],
   "source": [
    "dic = {'name':'pey', 'phone':'010-9999-1234', 'birth':'1118'}\n",
    "# key : value"
   ]
  },
  {
   "cell_type": "code",
   "execution_count": 14,
   "id": "41594af1",
   "metadata": {},
   "outputs": [
    {
     "data": {
      "text/plain": [
       "{1: 'a', 2: 'b'}"
      ]
     },
     "execution_count": 14,
     "metadata": {},
     "output_type": "execute_result"
    }
   ],
   "source": [
    "#딕셔너리 쌍 추가하기\n",
    "a = {1: \"a\"}\n",
    "a[2] = \"b\"\n",
    "a"
   ]
  },
  {
   "cell_type": "code",
   "execution_count": 15,
   "id": "661812a8",
   "metadata": {},
   "outputs": [
    {
     "data": {
      "text/plain": [
       "{1: 'a', 2: 'b', 'name': 'pey'}"
      ]
     },
     "execution_count": 15,
     "metadata": {},
     "output_type": "execute_result"
    }
   ],
   "source": [
    "a['name'] = 'pey'\n",
    "a"
   ]
  },
  {
   "cell_type": "code",
   "execution_count": 16,
   "id": "09e91a1c",
   "metadata": {},
   "outputs": [
    {
     "data": {
      "text/plain": [
       "{2: 'b', 'name': 'pey'}"
      ]
     },
     "execution_count": 16,
     "metadata": {},
     "output_type": "execute_result"
    }
   ],
   "source": [
    "#딕셔너리 요소 삭제\n",
    "del a[1]\n",
    "a"
   ]
  },
  {
   "cell_type": "code",
   "execution_count": 17,
   "id": "e8cebcdd",
   "metadata": {},
   "outputs": [
    {
     "data": {
      "text/plain": [
       "10"
      ]
     },
     "execution_count": 17,
     "metadata": {},
     "output_type": "execute_result"
    }
   ],
   "source": [
    "#딕셔너리에서 Key를 사용해 Value 얻기\n",
    "grade = {'pey': 10, 'julliet': 99}\n",
    "grade['pey']"
   ]
  },
  {
   "cell_type": "code",
   "execution_count": 21,
   "id": "fc136919",
   "metadata": {},
   "outputs": [
    {
     "data": {
      "text/plain": [
       "{1: 'b'}"
      ]
     },
     "execution_count": 21,
     "metadata": {},
     "output_type": "execute_result"
    }
   ],
   "source": [
    "# 딕셔너리 만들 때 주의할 사항\n",
    "# Key는 고유한 값이므로 중복되는 Key의 값일 경우 \n",
    "# 하나를 제외한 나머지 것들이 모두 무시됨\n",
    "a = {1:'a', 1:'b'}\n",
    "a\n",
    "# Key에 리스트 사용 불가능 (변하는 값 불가능)\n",
    "#a = {[1,2] : \"hi\"}"
   ]
  },
  {
   "cell_type": "code",
   "execution_count": 22,
   "id": "79e94585",
   "metadata": {},
   "outputs": [
    {
     "data": {
      "text/plain": [
       "dict_keys(['name', 'phone', 'birth'])"
      ]
     },
     "execution_count": 22,
     "metadata": {},
     "output_type": "execute_result"
    }
   ],
   "source": [
    "# Key 리스트 만들기\n",
    "a = {'name': 'pey', 'phone': '010-9999-1234', 'birth': '1118'}\n",
    "a.keys() #Key만을 모아 dict_keys 객체 리턴"
   ]
  },
  {
   "cell_type": "code",
   "execution_count": 25,
   "id": "12039e14",
   "metadata": {},
   "outputs": [
    {
     "name": "stdout",
     "output_type": "stream",
     "text": [
      "name\n",
      "phone\n",
      "birth\n"
     ]
    },
    {
     "data": {
      "text/plain": [
       "['name', 'phone', 'birth']"
      ]
     },
     "execution_count": 25,
     "metadata": {},
     "output_type": "execute_result"
    }
   ],
   "source": [
    "for k in a.keys() :\n",
    "    print(k)\n",
    "list(a.keys())"
   ]
  },
  {
   "cell_type": "code",
   "execution_count": 26,
   "id": "b194cc2f",
   "metadata": {},
   "outputs": [
    {
     "data": {
      "text/plain": [
       "dict_values(['pey', '010-9999-1234', '1118'])"
      ]
     },
     "execution_count": 26,
     "metadata": {},
     "output_type": "execute_result"
    }
   ],
   "source": [
    "# Value 리스트 만들기\n",
    "a.values()"
   ]
  },
  {
   "cell_type": "code",
   "execution_count": 27,
   "id": "63f92f4a",
   "metadata": {},
   "outputs": [
    {
     "data": {
      "text/plain": [
       "dict_items([('name', 'pey'), ('phone', '010-9999-1234'), ('birth', '1118')])"
      ]
     },
     "execution_count": 27,
     "metadata": {},
     "output_type": "execute_result"
    }
   ],
   "source": [
    "# Key, Value 쌍 얻기\n",
    "a.items()"
   ]
  },
  {
   "cell_type": "code",
   "execution_count": 28,
   "id": "a8a5ef5a",
   "metadata": {},
   "outputs": [
    {
     "data": {
      "text/plain": [
       "{}"
      ]
     },
     "execution_count": 28,
     "metadata": {},
     "output_type": "execute_result"
    }
   ],
   "source": [
    "# Key:Value 쌍 모두 지우기\n",
    "a.clear()\n",
    "a"
   ]
  },
  {
   "cell_type": "code",
   "execution_count": 33,
   "id": "3f676f26",
   "metadata": {},
   "outputs": [
    {
     "name": "stdout",
     "output_type": "stream",
     "text": [
      "pey\n",
      "pey\n"
     ]
    }
   ],
   "source": [
    "#Key로 Value 얻기\n",
    "a = {'name': 'pey', 'phone': '010-9999-1234', 'birth': '1118'}\n",
    "print(a.get('name'))\n",
    "print(a['name'])\n",
    "# 차이: 존재하지 않는 키로 값을 가져오려고 할 경우\n",
    "# a.get['n']은 None을 리턴하고, a['n']는 오류 발생"
   ]
  },
  {
   "cell_type": "code",
   "execution_count": 35,
   "id": "d3adc51c",
   "metadata": {},
   "outputs": [
    {
     "name": "stdout",
     "output_type": "stream",
     "text": [
      "True\n",
      "False\n"
     ]
    }
   ],
   "source": [
    "# 해당 Key가 딕셔너리 안에 있는지 조사하기\n",
    "a = {'name': 'pey', 'phone': '010-9999-1234', 'birth': '1118'}\n",
    "print('name' in a)\n",
    "print('email' in a)"
   ]
  },
  {
   "cell_type": "markdown",
   "id": "c494b025",
   "metadata": {},
   "source": [
    "##02-6 집합 자료형 (set 키워드 사용해 만들 수 있음)"
   ]
  },
  {
   "cell_type": "code",
   "execution_count": 36,
   "id": "524dcddb",
   "metadata": {},
   "outputs": [
    {
     "data": {
      "text/plain": [
       "{1, 2, 3}"
      ]
     },
     "execution_count": 36,
     "metadata": {},
     "output_type": "execute_result"
    }
   ],
   "source": [
    "s1 = set([1,2,3])\n",
    "s1"
   ]
  },
  {
   "cell_type": "code",
   "execution_count": 38,
   "id": "4db83a4b",
   "metadata": {},
   "outputs": [
    {
     "data": {
      "text/plain": [
       "{'H', 'e', 'l', 'o'}"
      ]
     },
     "execution_count": 38,
     "metadata": {},
     "output_type": "execute_result"
    }
   ],
   "source": [
    "s2 = set(\"Hello\")\n",
    "s2\n",
    "# 중복을 허용하지 않으며 순서가 없음"
   ]
  },
  {
   "cell_type": "code",
   "execution_count": 40,
   "id": "40ca5aad",
   "metadata": {},
   "outputs": [
    {
     "name": "stdout",
     "output_type": "stream",
     "text": [
      "{4, 5, 6}\n",
      "{4, 5, 6}\n",
      "{4, 5, 6}\n"
     ]
    }
   ],
   "source": [
    "# 교집합 구하기 (&)\n",
    "s1 = set([1, 2, 3, 4, 5, 6])\n",
    "s2 = set([4, 5, 6, 7, 8, 9])\n",
    "print(s1 & s2)\n",
    "print(s2.intersection(s1))\n",
    "print(s1.intersection(s2))"
   ]
  },
  {
   "cell_type": "code",
   "execution_count": 42,
   "id": "b4a3441d",
   "metadata": {},
   "outputs": [
    {
     "name": "stdout",
     "output_type": "stream",
     "text": [
      "{1, 2, 3, 4, 5, 6, 7, 8, 9}\n",
      "{1, 2, 3, 4, 5, 6, 7, 8, 9}\n",
      "{1, 2, 3, 4, 5, 6, 7, 8, 9}\n"
     ]
    }
   ],
   "source": [
    "# 합집합 구하기 (|)\n",
    "print(s1 | s2)\n",
    "print(s1.union(s2))\n",
    "print(s2.union(s1))"
   ]
  },
  {
   "cell_type": "code",
   "execution_count": 43,
   "id": "503495fc",
   "metadata": {},
   "outputs": [
    {
     "name": "stdout",
     "output_type": "stream",
     "text": [
      "{1, 2, 3}\n",
      "{1, 2, 3}\n",
      "{8, 9, 7}\n"
     ]
    }
   ],
   "source": [
    "# 차집합 구하기\n",
    "print(s1 - s2)\n",
    "print(s1.difference(s2)) # s1 - s2\n",
    "print(s2.difference(s1)) # s2 - s1"
   ]
  },
  {
   "cell_type": "code",
   "execution_count": 45,
   "id": "7473f005",
   "metadata": {},
   "outputs": [
    {
     "data": {
      "text/plain": [
       "{1, 2, 3, 4}"
      ]
     },
     "execution_count": 45,
     "metadata": {},
     "output_type": "execute_result"
    }
   ],
   "source": [
    "# 값 1개 추가하기\n",
    "s1 = set([1, 2, 3])\n",
    "s1.add(4)\n",
    "s1"
   ]
  },
  {
   "cell_type": "code",
   "execution_count": 46,
   "id": "fc02c7a3",
   "metadata": {},
   "outputs": [
    {
     "data": {
      "text/plain": [
       "{1, 2, 3, 4, 5, 6}"
      ]
     },
     "execution_count": 46,
     "metadata": {},
     "output_type": "execute_result"
    }
   ],
   "source": [
    "# 값 여러 개 추가하기\n",
    "s1 = set([1, 2, 3])\n",
    "s1.update([4, 5, 6])\n",
    "s1"
   ]
  },
  {
   "cell_type": "code",
   "execution_count": 47,
   "id": "17daf35a",
   "metadata": {},
   "outputs": [
    {
     "data": {
      "text/plain": [
       "{1, 3}"
      ]
     },
     "execution_count": 47,
     "metadata": {},
     "output_type": "execute_result"
    }
   ],
   "source": [
    "# 특정 값 제거하기 \n",
    "s1 = set([1, 2, 3])\n",
    "s1.remove(2)\n",
    "s1"
   ]
  }
 ],
 "metadata": {
  "kernelspec": {
   "display_name": "Python 3 (ipykernel)",
   "language": "python",
   "name": "python3"
  },
  "language_info": {
   "codemirror_mode": {
    "name": "ipython",
    "version": 3
   },
   "file_extension": ".py",
   "mimetype": "text/x-python",
   "name": "python",
   "nbconvert_exporter": "python",
   "pygments_lexer": "ipython3",
   "version": "3.11.7"
  }
 },
 "nbformat": 4,
 "nbformat_minor": 5
}
