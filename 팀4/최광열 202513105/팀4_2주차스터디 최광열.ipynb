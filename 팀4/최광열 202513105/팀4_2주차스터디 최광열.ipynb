{
  "cells": [
    {
      "cell_type": "markdown",
      "metadata": {
        "id": "xAbTNbyfiIGn"
      },
      "source": [
        "## **튜플**"
      ]
    },
    {
      "cell_type": "markdown",
      "metadata": {
        "id": "_LqR2P9miIGq"
      },
      "source": [
        "### 1. 원소를 'A' 하나만 가지는 튜플을 생성하라."
      ]
    },
    {
      "cell_type": "code",
      "execution_count": 12,
      "metadata": {
        "colab": {
          "base_uri": "https://localhost:8080/"
        },
        "id": "pF1bC853iIGq",
        "outputId": "d88a957d-51e8-457f-a7d9-ff49dfc0eab0"
      },
      "outputs": [
        {
          "output_type": "stream",
          "name": "stdout",
          "text": [
            "('A',)\n"
          ]
        }
      ],
      "source": [
        "t1 = (\"A\",)\n",
        "print (t1)"
      ]
    },
    {
      "cell_type": "markdown",
      "metadata": {
        "id": "QeandUTUiIGr"
      },
      "source": [
        "### 2. 오류가 발생한 이유를 튜플의 특징과 관련하여 설명하시오."
      ]
    },
    {
      "cell_type": "code",
      "execution_count": null,
      "metadata": {
        "id": "T2hGG4PIiIGr",
        "outputId": "bb08ddf5-0488-42bd-846f-e252473c7be3"
      },
      "outputs": [
        {
          "ename": "TypeError",
          "evalue": "'tuple' object does not support item assignment",
          "output_type": "error",
          "traceback": [
            "\u001b[1;31m---------------------------------------------------------------------------\u001b[0m",
            "\u001b[1;31mTypeError\u001b[0m                                 Traceback (most recent call last)",
            "Cell \u001b[1;32mIn[4], line 4\u001b[0m\n\u001b[0;32m      1\u001b[0m t \u001b[38;5;241m=\u001b[39m (\u001b[38;5;124m'\u001b[39m\u001b[38;5;124mA+\u001b[39m\u001b[38;5;124m'\u001b[39m, \u001b[38;5;124m'\u001b[39m\u001b[38;5;124mA0\u001b[39m\u001b[38;5;124m'\u001b[39m, \u001b[38;5;124m'\u001b[39m\u001b[38;5;124mA\u001b[39m\u001b[38;5;124m'\u001b[39m, \u001b[38;5;124m'\u001b[39m\u001b[38;5;124mB+\u001b[39m\u001b[38;5;124m'\u001b[39m, \u001b[38;5;124m'\u001b[39m\u001b[38;5;124mA+\u001b[39m\u001b[38;5;124m'\u001b[39m)\n\u001b[0;32m      2\u001b[0m \u001b[38;5;28mtype\u001b[39m(t)\n\u001b[1;32m----> 4\u001b[0m \u001b[43mt\u001b[49m\u001b[43m[\u001b[49m\u001b[38;5;241;43m2\u001b[39;49m\u001b[43m]\u001b[49m \u001b[38;5;241m=\u001b[39m \u001b[38;5;124m'\u001b[39m\u001b[38;5;124mB\u001b[39m\u001b[38;5;124m'\u001b[39m\n",
            "\u001b[1;31mTypeError\u001b[0m: 'tuple' object does not support item assignment"
          ]
        }
      ],
      "source": [
        "t = ('A+', 'A0', 'A', 'B+', 'A+')\n",
        "type(t)\n",
        "\n",
        "t[2] = 'B'"
      ]
    },
    {
      "cell_type": "markdown",
      "metadata": {
        "id": "-1eBzW7LiIGs"
      },
      "source": [
        "tuple 값은 변경, 삭제가 불가능하기 때문에 tuple 값을 수정하려고 시도하자 오류가 났다."
      ]
    },
    {
      "cell_type": "markdown",
      "metadata": {
        "id": "wOB5sa29iIGs"
      },
      "source": [
        "### 3. 아래의 요소를 튜플로 생성하시오. <br>\n",
        "**20, 4.21, 데이터정보과학부**"
      ]
    },
    {
      "cell_type": "code",
      "execution_count": 19,
      "metadata": {
        "colab": {
          "base_uri": "https://localhost:8080/"
        },
        "id": "6V_wWEaIiIGt",
        "outputId": "ca97a8bf-817e-41d1-ecc1-05267a3ba865"
      },
      "outputs": [
        {
          "output_type": "execute_result",
          "data": {
            "text/plain": [
              "(20, 4.21, '데이터정보과학부')"
            ]
          },
          "metadata": {},
          "execution_count": 19
        }
      ],
      "source": [
        "t2 = (20, 4.21, \"데이터정보과학부\")\n",
        "t2"
      ]
    },
    {
      "cell_type": "markdown",
      "metadata": {
        "id": "B4D8lnndiIGt"
      },
      "source": [
        "### 3-1. 위 튜플의 요소를 각각 age, grade, major 변수에 저장하고 출력하세요."
      ]
    },
    {
      "cell_type": "code",
      "execution_count": 33,
      "metadata": {
        "colab": {
          "base_uri": "https://localhost:8080/"
        },
        "id": "XYMT0ed0iIGt",
        "outputId": "b89f9a78-b903-4c69-989b-21db04fe65fe"
      },
      "outputs": [
        {
          "output_type": "stream",
          "name": "stdout",
          "text": [
            "20 4.21 데이터정보과학부\n"
          ]
        }
      ],
      "source": [
        "age = t2[0]\n",
        "grade = t2[1]\n",
        "major=t2[2]\n",
        "print(age, grade, major)"
      ]
    },
    {
      "cell_type": "markdown",
      "metadata": {
        "id": "Q-RpaH9_iIGt"
      },
      "source": [
        "### 3-2. 위의 변수를 활용하여 다음의 문장을 생성하시오.\n",
        "**나는 __살이고 학점은 __이며 _______에 재학 중이다.**<Br>\n",
        "\\*조건: 학점은 소수점 첫째 자리까지만 표현. f-string 방식의 포매팅을 사용하여 위 문장을 생성할 것."
      ]
    },
    {
      "cell_type": "code",
      "execution_count": 36,
      "metadata": {
        "colab": {
          "base_uri": "https://localhost:8080/"
        },
        "id": "0FDMinzciIGu",
        "outputId": "ebdf2ecb-83cc-4bbe-97c4-6c81c02d3f43"
      },
      "outputs": [
        {
          "output_type": "stream",
          "name": "stdout",
          "text": [
            "나는 20살이고 학점은 4.2이며 데이터정보과학부에 재학중이다\n"
          ]
        }
      ],
      "source": [
        "print(f'나는 {age}살이고 학점은 {grade:0.1f}이며 {major}에 재학중이다')"
      ]
    },
    {
      "cell_type": "markdown",
      "source": [],
      "metadata": {
        "id": "nRdaI-bol-cU"
      }
    },
    {
      "cell_type": "markdown",
      "metadata": {
        "id": "CIcpjUSKiIGu"
      },
      "source": [
        "## **딕셔너리**"
      ]
    },
    {
      "cell_type": "markdown",
      "metadata": {
        "id": "oOhuXKp5iIGu"
      },
      "source": [
        "### 1. 다음 표를 딕셔너리 형태로 구현하고 출력하시오. <br>\n",
        "|좌석|잔여석|\n",
        "|------|---|\n",
        "|VIP|0|\n",
        "|스탠딩|1|\n",
        "|지정석 S|1|\n",
        "|지정석 B|0|\n",
        "|지정석 R|2|"
      ]
    },
    {
      "cell_type": "code",
      "execution_count": 27,
      "metadata": {
        "colab": {
          "base_uri": "https://localhost:8080/"
        },
        "id": "GOuWWJ9OiIGu",
        "outputId": "26629647-af0b-4966-ecf1-5e562f2d3f34"
      },
      "outputs": [
        {
          "output_type": "execute_result",
          "data": {
            "text/plain": [
              "{'VIP': 0, '스탠딩': 1, '지정석 S': 1, '지정석 B': 0, '지정석 R': 2}"
            ]
          },
          "metadata": {},
          "execution_count": 27
        }
      ],
      "source": [
        "dic = {\"VIP\":0, \"스탠딩\":1, \"지정석 S\":1, \"지정석 B\":0, \"지정석 R\":2}\n",
        "dic"
      ]
    },
    {
      "cell_type": "markdown",
      "metadata": {
        "id": "ez8GzlubiIGu"
      },
      "source": [
        "### 1-1. 스탠딩 좌석이 매진되었다. 잔여석을 0으로 바꾸고 결과를 출력하시오."
      ]
    },
    {
      "cell_type": "code",
      "execution_count": 41,
      "metadata": {
        "colab": {
          "base_uri": "https://localhost:8080/"
        },
        "id": "8sDvv6fmiIGu",
        "outputId": "098f63df-d6b0-4c96-d22c-2d6a294fbe38"
      },
      "outputs": [
        {
          "output_type": "execute_result",
          "data": {
            "text/plain": [
              "{'VIP': 0, '스탠딩': 0, '지정석 S': 1, '지정석 B': 0, '지정석 R': 2}"
            ]
          },
          "metadata": {},
          "execution_count": 41
        }
      ],
      "source": [
        "dic[\"스탠딩\"]=0\n",
        "dic"
      ]
    },
    {
      "cell_type": "markdown",
      "metadata": {
        "id": "Cd6QlLt9iIGv"
      },
      "source": [
        "### 1-2. '지정석 A' 구역과 잔여석 3을 추가하여라."
      ]
    },
    {
      "cell_type": "code",
      "execution_count": 46,
      "metadata": {
        "colab": {
          "base_uri": "https://localhost:8080/"
        },
        "id": "bilgz6w9iIGv",
        "outputId": "2e756ad2-ff93-40d8-96b9-a89bc96eea4e"
      },
      "outputs": [
        {
          "output_type": "execute_result",
          "data": {
            "text/plain": [
              "{'VIP': 0, '스탠딩': 0, '지정석 S': 1, '지정석 B': 0, '지정석 R': 2, '지정석 A': 3}"
            ]
          },
          "metadata": {},
          "execution_count": 46
        }
      ],
      "source": [
        "dic[\"지정석 A\"]=3\n",
        "dic"
      ]
    },
    {
      "cell_type": "markdown",
      "metadata": {
        "id": "mu1phxtBiIGv"
      },
      "source": [
        "### 2. 다음은 좌표와 좌표에 대응하는 장소 이름이다.\n",
        "|X|Y|장소|\n",
        "|------|---|---|\n",
        "|35.1|29.47|도서관|\n",
        "|22.0|52.7|주택|\n",
        "|82.56|11.77|연구소|\n",
        "\n",
        "### 딕셔너리 형태를 만들되, Key: Value 양식이 **좌표: 장소**로 표현되도록 하시오. <br>\n",
        "\\* 힌트: 좌표는 튜플로 표현한다."
      ]
    },
    {
      "cell_type": "code",
      "execution_count": 48,
      "metadata": {
        "colab": {
          "base_uri": "https://localhost:8080/"
        },
        "id": "6WHCk2MziIGv",
        "outputId": "0ef8701a-c18a-4797-84ec-ff09792fce1b"
      },
      "outputs": [
        {
          "output_type": "execute_result",
          "data": {
            "text/plain": [
              "{(35.1, 29.47): '도서관', (22.0, 52.7): '주택', (82.56, 11.77): '연구소'}"
            ]
          },
          "metadata": {},
          "execution_count": 48
        }
      ],
      "source": [
        "dic1={(35.1, 29.47):\"도서관\", (22.0, 52.7):\"주택\", (82.56,11.77):\"연구소\"}\n",
        "dic1"
      ]
    },
    {
      "cell_type": "markdown",
      "metadata": {
        "id": "iTlcWJvIiIGv"
      },
      "source": [
        "## **집합**"
      ]
    },
    {
      "cell_type": "markdown",
      "metadata": {
        "id": "Pgr-fs7_iIGv"
      },
      "source": [
        "### 1. A는 쇼핑, 딸기, 바닐라 라떼를 좋아하고 B는 볼링, 참외, 자장면, 바닐라 라떼를 좋아한다. A가 좋아하는 것과 B가 좋아하는 것을 각각의 **집합**에 담아 표현하시오."
      ]
    },
    {
      "cell_type": "code",
      "execution_count": 50,
      "metadata": {
        "colab": {
          "base_uri": "https://localhost:8080/"
        },
        "id": "ZzoOKuw8iIGw",
        "outputId": "393e0b5b-389d-461c-8402-fd620c26b5bd"
      },
      "outputs": [
        {
          "output_type": "execute_result",
          "data": {
            "text/plain": [
              "({'딸기', '바닐라 라떼', '쇼핑'}, {'바닐라 라떼', '볼링', '자장면', '참외'})"
            ]
          },
          "metadata": {},
          "execution_count": 50
        }
      ],
      "source": [
        "s1= set({\"쇼핑\",\"딸기\",\"바닐라 라떼\"})\n",
        "s2= set({\"볼링\", \"참외\", \"자장면\", \"바닐라 라떼\"})\n",
        "s1, s2"
      ]
    },
    {
      "cell_type": "markdown",
      "metadata": {
        "id": "QpgpNwbyiIGw"
      },
      "source": [
        "### 1-2. A와 B 두 명이 공통적으로 좋아하는 것들을 출력하시오. 단, 집합의 기능 중 하나를 이용하도록 한다."
      ]
    },
    {
      "cell_type": "code",
      "execution_count": 52,
      "metadata": {
        "colab": {
          "base_uri": "https://localhost:8080/"
        },
        "id": "9SMyrnQAiIGw",
        "outputId": "1d2806b6-ad29-4029-b724-772ed87e0fea"
      },
      "outputs": [
        {
          "output_type": "execute_result",
          "data": {
            "text/plain": [
              "{'바닐라 라떼'}"
            ]
          },
          "metadata": {},
          "execution_count": 52
        }
      ],
      "source": [
        "s1 & s2"
      ]
    },
    {
      "cell_type": "markdown",
      "metadata": {
        "id": "F3UyWflfiIGw"
      },
      "source": [
        "### 1-3. B는 좋아하지 않고 A만 좋아하는 것들을 출력하시오. 단, 집합의 기능 중 하나를 이용하도록 한다."
      ]
    },
    {
      "cell_type": "code",
      "execution_count": 53,
      "metadata": {
        "colab": {
          "base_uri": "https://localhost:8080/"
        },
        "id": "OSYq8ptKiIGw",
        "outputId": "77a987b6-0c06-4bf9-ac60-7d9ae72823e9"
      },
      "outputs": [
        {
          "output_type": "execute_result",
          "data": {
            "text/plain": [
              "{'딸기', '쇼핑'}"
            ]
          },
          "metadata": {},
          "execution_count": 53
        }
      ],
      "source": [
        "s1-s2"
      ]
    }
  ],
  "metadata": {
    "kernelspec": {
      "display_name": "Python 3",
      "language": "python",
      "name": "python3"
    },
    "language_info": {
      "codemirror_mode": {
        "name": "ipython",
        "version": 3
      },
      "file_extension": ".py",
      "mimetype": "text/x-python",
      "name": "python",
      "nbconvert_exporter": "python",
      "pygments_lexer": "ipython3",
      "version": "3.11.2"
    },
    "colab": {
      "provenance": []
    }
  },
  "nbformat": 4,
  "nbformat_minor": 0
}