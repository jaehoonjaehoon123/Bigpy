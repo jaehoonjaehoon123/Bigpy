{
  "nbformat": 4,
  "nbformat_minor": 0,
  "metadata": {
    "colab": {
      "provenance": []
    },
    "kernelspec": {
      "name": "python3",
      "display_name": "Python 3"
    },
    "language_info": {
      "name": "python"
    }
  },
  "cells": [
    {
      "cell_type": "code",
      "execution_count": null,
      "metadata": {
        "id": "R9BtQ6ChYo1s",
        "outputId": "b634fcd3-886d-461e-f37c-42e4c2b8a808",
        "colab": {
          "base_uri": "https://localhost:8080/"
        }
      },
      "outputs": [
        {
          "output_type": "stream",
          "name": "stdout",
          "text": [
            "Hello World\n",
            "3\n",
            "P\n",
            "My name is John and I am 25 years old.\n"
          ]
        }
      ],
      "source": [
        "#Q1\n",
        "print(\"Hello World\")\n",
        "#Q2\n",
        "print(3)\n",
        "#Q3\n",
        "word = \"Python\"\n",
        "print(word[0])\n",
        "#Q4\n",
        "name = \"John\"\n",
        "age = 25\n",
        "print(f\"My name is\",name, \"and I am\" ,age,\"years old.\")"
      ]
    },
    {
      "cell_type": "code",
      "source": [
        "#Q5\n",
        "sentence = \"Python is a powerful programming language\"\n",
        "list = sentence.split()\n",
        "print(list)"
      ],
      "metadata": {
        "colab": {
          "base_uri": "https://localhost:8080/"
        },
        "id": "XRruZsCOaMtt",
        "outputId": "5326c64b-f548-4e21-9e54-70e1e17c69e9"
      },
      "execution_count": null,
      "outputs": [
        {
          "output_type": "stream",
          "name": "stdout",
          "text": [
            "['Python', 'is', 'a', 'powerful', 'programming', 'language']\n"
          ]
        }
      ]
    },
    {
      "cell_type": "code",
      "source": [
        "#Q6\n",
        "sentence  = \"Hello, world!\"\n",
        "print(sentence[:5])"
      ],
      "metadata": {
        "colab": {
          "base_uri": "https://localhost:8080/"
        },
        "id": "ICivi_hDarn8",
        "outputId": "8d06e163-1560-42b5-c79e-1b4b4c0155e5"
      },
      "execution_count": null,
      "outputs": [
        {
          "output_type": "stream",
          "name": "stdout",
          "text": [
            "Hello\n"
          ]
        }
      ]
    },
    {
      "cell_type": "code",
      "source": [
        "#Q7\n",
        "text=\" Python is awesome!\"\n",
        "print(text.lstrip())\n"
      ],
      "metadata": {
        "colab": {
          "base_uri": "https://localhost:8080/"
        },
        "id": "ecuQMQ9FbAS_",
        "outputId": "a1e0922d-f21e-4a77-be03-e615906f65af"
      },
      "execution_count": null,
      "outputs": [
        {
          "output_type": "stream",
          "name": "stdout",
          "text": [
            "Python is awesome!\n"
          ]
        }
      ]
    },
    {
      "cell_type": "code",
      "source": [
        "#Q8\n",
        "num = int(10)"
      ],
      "metadata": {
        "id": "nrU1LGjbbc0L"
      },
      "execution_count": null,
      "outputs": []
    },
    {
      "cell_type": "code",
      "source": [
        "#9\n",
        "x=50\n",
        "y=23\n",
        "print(x-y)"
      ],
      "metadata": {
        "colab": {
          "base_uri": "https://localhost:8080/"
        },
        "id": "Y1JS3LcdbkxH",
        "outputId": "064837bd-5d7e-4575-80bf-35110631ce4a"
      },
      "execution_count": null,
      "outputs": [
        {
          "output_type": "stream",
          "name": "stdout",
          "text": [
            "27\n"
          ]
        }
      ]
    },
    {
      "cell_type": "code",
      "source": [
        "#10\n",
        "num1 = 25\n",
        "num2 = 4\n",
        "print(num1//num2)"
      ],
      "metadata": {
        "colab": {
          "base_uri": "https://localhost:8080/"
        },
        "id": "LQqPBvrEbqBA",
        "outputId": "c91e9108-ea2a-44ca-e42e-fa64e8d0817d"
      },
      "execution_count": null,
      "outputs": [
        {
          "output_type": "stream",
          "name": "stdout",
          "text": [
            "6\n"
          ]
        }
      ]
    },
    {
      "cell_type": "code",
      "source": [
        "#11\n",
        "print(2**5)"
      ],
      "metadata": {
        "colab": {
          "base_uri": "https://localhost:8080/"
        },
        "id": "QWQJh4--bvK9",
        "outputId": "97678994-871d-4ef3-a6d1-7823febb8704"
      },
      "execution_count": null,
      "outputs": [
        {
          "output_type": "stream",
          "name": "stdout",
          "text": [
            "32\n"
          ]
        }
      ]
    },
    {
      "cell_type": "code",
      "source": [
        "#12\n",
        "num = 5\n",
        "num +=10\n",
        "print(num)"
      ],
      "metadata": {
        "colab": {
          "base_uri": "https://localhost:8080/"
        },
        "id": "Fd-ZP4UDb3WB",
        "outputId": "8a4c1971-a42f-43bb-9fe2-a94af4a512b1"
      },
      "execution_count": null,
      "outputs": [
        {
          "output_type": "stream",
          "name": "stdout",
          "text": [
            "15\n"
          ]
        }
      ]
    },
    {
      "cell_type": "code",
      "source": [
        "#13\n",
        "result = (10+2)*3\n",
        "print(result)"
      ],
      "metadata": {
        "colab": {
          "base_uri": "https://localhost:8080/"
        },
        "id": "6Sxd5DvccHXr",
        "outputId": "9d72ba76-ee77-4d64-b0a4-af92032f3fba"
      },
      "execution_count": null,
      "outputs": [
        {
          "output_type": "stream",
          "name": "stdout",
          "text": [
            "36\n"
          ]
        }
      ]
    },
    {
      "cell_type": "code",
      "source": [
        "#14\n",
        "a=2\n",
        "type(a)"
      ],
      "metadata": {
        "colab": {
          "base_uri": "https://localhost:8080/"
        },
        "id": "pSZrkPD4cO8s",
        "outputId": "24511d5d-fb3d-43cf-e752-e8654c754eda"
      },
      "execution_count": null,
      "outputs": [
        {
          "output_type": "execute_result",
          "data": {
            "text/plain": [
              "int"
            ]
          },
          "metadata": {},
          "execution_count": 18
        }
      ]
    },
    {
      "cell_type": "code",
      "source": [
        "#15\n",
        "a=5\n",
        "a = float(a)\n",
        "type(a)"
      ],
      "metadata": {
        "colab": {
          "base_uri": "https://localhost:8080/"
        },
        "id": "lcHDtagucS24",
        "outputId": "2c4a6d39-7343-4a47-f61d-a4c525f6b34f"
      },
      "execution_count": null,
      "outputs": [
        {
          "output_type": "execute_result",
          "data": {
            "text/plain": [
              "float"
            ]
          },
          "metadata": {},
          "execution_count": 20
        }
      ]
    },
    {
      "cell_type": "code",
      "source": [
        "#16\n",
        "print(29//5)\n",
        "print(29%5)\n"
      ],
      "metadata": {
        "colab": {
          "base_uri": "https://localhost:8080/"
        },
        "id": "6X4XXKPcchAt",
        "outputId": "edbb9f85-36c2-43b5-e6cd-67959d116620"
      },
      "execution_count": null,
      "outputs": [
        {
          "output_type": "stream",
          "name": "stdout",
          "text": [
            "5\n",
            "4\n"
          ]
        }
      ]
    },
    {
      "cell_type": "code",
      "source": [
        "#17\n",
        "pi = 3.1415926535\n",
        "round(pi,2)"
      ],
      "metadata": {
        "colab": {
          "base_uri": "https://localhost:8080/"
        },
        "id": "psn8D_I3cl6y",
        "outputId": "40c9cadb-842a-4883-da0a-5b765bbc8057"
      },
      "execution_count": null,
      "outputs": [
        {
          "output_type": "execute_result",
          "data": {
            "text/plain": [
              "3.14"
            ]
          },
          "metadata": {},
          "execution_count": 66
        }
      ]
    },
    {
      "cell_type": "code",
      "source": [
        "#18\n",
        "numbers = [5,12,7,3,9,7,1,4,7,6]\n",
        "print(len(numbers))\n",
        "#19\n",
        "print(numbers.count(7))\n",
        "#20 오름차순\n",
        "print(sorted(numbers))\n",
        "#21 내림차순\n",
        "print(sorted(numbers,reverse=True))\n",
        "#22\n",
        "print(numbers.index(9))\n",
        "#23 99로 바꾸기\n",
        "numbers[0]=99\n",
        "print(numbers)\n",
        "#24 0으로 바꾸기\n",
        "numbers[-1]=0\n",
        "print(numbers)\n",
        "#25\n",
        "numbers.insert(2,100)\n",
        "print(numbers)\n",
        "\n",
        "#26 del을 사용하여 리스트의 두 번째 요소를 삭제하고 출력하세요.\n",
        "del numbers[1]\n",
        "print(numbers)\n",
        "#27 remove를 사용하여 숫자 7을 한 개 삭제하고 출력하세요.\n",
        "numbers.remove(7)\n",
        "print(numbers)\n",
        "#28 pop을 사용하여 마지막 요소를 꺼내어 출력하고, 변경된 리스트도 출력하세요\n",
        "(numbers).pop()\n",
        "print(numbers)\n",
        "#29 del index 위치로 삭제하고 remove 원하는 값을 하나 삭제하고 pop 마지막\n",
        "#요소를 하나 출력하고, 삭제함.\n",
        "#30\n",
        "numbers.reverse()\n",
        "#31 [8, 10, 15] 리스트를 numbers 리스트에 확장하여 추가하고 출력하세요.\n",
        "numbers.extend([8,10,15])\n",
        "print(numbers)\n",
        "#32\n",
        "print(numbers[:5])\n",
        "#33\n",
        "print(numbers[-3:])\n",
        "#34\n",
        "print(numbers[1::2])\n",
        "#35-1\n",
        "fruits = [\"사과\", \"바나나\", \"포도\", \"오렌지\", \"수박\"]\n",
        "fruits.remove(\"포도\")\n",
        "print(fruits)\n",
        "#35-2\n",
        "fruits.append(\"망고\")\n",
        "print(fruits)\n",
        "#35-3\n",
        "fruits = (sorted(fruits))\n",
        "print(fruits)\n",
        "#35-4\n",
        "print(fruits.count(\"바나나\"))"
      ],
      "metadata": {
        "colab": {
          "base_uri": "https://localhost:8080/"
        },
        "id": "OZ4yE94Dc4Af",
        "outputId": "f9d51734-c037-4197-c000-3171f49769b7"
      },
      "execution_count": 22,
      "outputs": [
        {
          "output_type": "stream",
          "name": "stdout",
          "text": [
            "10\n",
            "3\n",
            "[1, 3, 4, 5, 6, 7, 7, 7, 9, 12]\n",
            "[12, 9, 7, 7, 7, 6, 5, 4, 3, 1]\n",
            "4\n",
            "[99, 12, 7, 3, 9, 7, 1, 4, 7, 6]\n",
            "[99, 12, 7, 3, 9, 7, 1, 4, 7, 0]\n",
            "[99, 12, 100, 7, 3, 9, 7, 1, 4, 7, 0]\n",
            "[99, 100, 7, 3, 9, 7, 1, 4, 7, 0]\n",
            "[99, 100, 3, 9, 7, 1, 4, 7, 0]\n",
            "[99, 100, 3, 9, 7, 1, 4, 7]\n",
            "[7, 4, 1, 7, 9, 3, 100, 99, 8, 10, 15]\n",
            "[7, 4, 1, 7, 9]\n",
            "[8, 10, 15]\n",
            "[4, 7, 3, 99, 10]\n",
            "['사과', '바나나', '오렌지', '수박']\n",
            "['사과', '바나나', '오렌지', '수박', '망고']\n",
            "['망고', '바나나', '사과', '수박', '오렌지']\n",
            "1\n"
          ]
        }
      ]
    }
  ]
}