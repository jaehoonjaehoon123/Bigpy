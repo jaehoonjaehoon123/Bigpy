{
  "cells": [
    {
      "cell_type": "markdown",
      "id": "15523389-e574-42a3-b55b-5ce01baa5b9b",
      "metadata": {
        "id": "15523389-e574-42a3-b55b-5ce01baa5b9b"
      },
      "source": [
        "## Hello World 문자열을 출력하세요."
      ]
    },
    {
      "cell_type": "code",
      "execution_count": 12,
      "id": "fae3f27e-1c06-4009-870d-29c68ecc0d61",
      "metadata": {
        "colab": {
          "base_uri": "https://localhost:8080/"
        },
        "id": "fae3f27e-1c06-4009-870d-29c68ecc0d61",
        "outputId": "c0e8b1a6-4874-4be6-b1a8-82f978b691f6"
      },
      "outputs": [
        {
          "output_type": "stream",
          "name": "stdout",
          "text": [
            "hello world\n"
          ]
        }
      ],
      "source": [
        "print (\"hello world\")"
      ]
    },
    {
      "cell_type": "markdown",
      "id": "1caa0d9a-fa78-444a-a75b-f619324cd8b4",
      "metadata": {
        "id": "1caa0d9a-fa78-444a-a75b-f619324cd8b4"
      },
      "source": [
        "## 숫자 3을 출력하세요."
      ]
    },
    {
      "cell_type": "code",
      "execution_count": 13,
      "id": "c5e382fc-be1f-410a-a883-33e136a92e47",
      "metadata": {
        "colab": {
          "base_uri": "https://localhost:8080/"
        },
        "id": "c5e382fc-be1f-410a-a883-33e136a92e47",
        "outputId": "86bd123c-c69b-407b-a066-8b181df8cdfb"
      },
      "outputs": [
        {
          "output_type": "execute_result",
          "data": {
            "text/plain": [
              "3"
            ]
          },
          "metadata": {},
          "execution_count": 13
        }
      ],
      "source": [
        "3"
      ]
    },
    {
      "cell_type": "markdown",
      "id": "ba89d31d-495d-4350-a48c-ab076edfe982",
      "metadata": {
        "id": "ba89d31d-495d-4350-a48c-ab076edfe982"
      },
      "source": [
        "# 아래 문자열에서 'P'를 출력하세요.\n",
        "word = \"Python\"\n"
      ]
    },
    {
      "cell_type": "code",
      "execution_count": 14,
      "id": "efffeb80-ffba-4b54-89ce-6826682f3017",
      "metadata": {
        "colab": {
          "base_uri": "https://localhost:8080/",
          "height": 35
        },
        "id": "efffeb80-ffba-4b54-89ce-6826682f3017",
        "outputId": "c1adbcab-fc98-41c6-f072-886c22ae32cc"
      },
      "outputs": [
        {
          "output_type": "execute_result",
          "data": {
            "text/plain": [
              "'P'"
            ],
            "application/vnd.google.colaboratory.intrinsic+json": {
              "type": "string"
            }
          },
          "metadata": {},
          "execution_count": 14
        }
      ],
      "source": [
        "word = \"P\"\n",
        "word"
      ]
    },
    {
      "cell_type": "markdown",
      "id": "ca9eb30c-6ae6-49de-b7e2-2ee72e452cea",
      "metadata": {
        "id": "ca9eb30c-6ae6-49de-b7e2-2ee72e452cea"
      },
      "source": [
        "# name과 age 변수를 사용하여 \"My name is John and I am 25 years old.\"을 출력하세요.\n",
        "name = \"John\"\n",
        "age = 25\n"
      ]
    },
    {
      "cell_type": "code",
      "execution_count": 50,
      "id": "6c558e77-7605-432e-9b52-02b30ed55c5f",
      "metadata": {
        "colab": {
          "base_uri": "https://localhost:8080/"
        },
        "id": "6c558e77-7605-432e-9b52-02b30ed55c5f",
        "outputId": "4f75a293-8206-44d8-ffc4-cdf10df703a4"
      },
      "outputs": [
        {
          "output_type": "stream",
          "name": "stdout",
          "text": [
            "my name is John and  i am25years old.\n"
          ]
        }
      ],
      "source": [
        "name = \"John\"\n",
        "age = 25\n",
        "print (\"my name is \"+ name + \" and  i am\"+str(age) + \"years old.\")"
      ]
    },
    {
      "cell_type": "markdown",
      "id": "a06d6e77-d062-472d-8c7c-b305ecfe13dd",
      "metadata": {
        "id": "a06d6e77-d062-472d-8c7c-b305ecfe13dd"
      },
      "source": [
        "# 아래 문자열을 공백을 기준으로 나누어 리스트로 변환하세요.\n",
        "sentence = \"Python is a powerful programming language\"\n"
      ]
    },
    {
      "cell_type": "code",
      "execution_count": 61,
      "id": "b1ce9d66-600d-47c4-9273-d61f093be4b2",
      "metadata": {
        "colab": {
          "base_uri": "https://localhost:8080/"
        },
        "id": "b1ce9d66-600d-47c4-9273-d61f093be4b2",
        "outputId": "9d2aba4a-ae27-47fe-c945-fdf51d0eb3e7"
      },
      "outputs": [
        {
          "output_type": "stream",
          "name": "stdout",
          "text": [
            "['Python', 'is', 'a', 'poewrful', 'programming', 'language']\n"
          ]
        }
      ],
      "source": [
        "my_list= [\"Python\", \"is\" , \"a\" , \"poewrful\" , \"programming\" , \"language\"]\n",
        "print(my_list)"
      ]
    },
    {
      "cell_type": "markdown",
      "id": "d7962387-4807-4255-91e1-0a2a3f32cabc",
      "metadata": {
        "id": "d7962387-4807-4255-91e1-0a2a3f32cabc"
      },
      "source": [
        "# 아래 문자열에서 \"Hello\"만 출력하세요.(슬라이싱 활용)\n",
        "sentence = \"Hello, world!\"\n"
      ]
    },
    {
      "cell_type": "code",
      "execution_count": 68,
      "id": "5c9fbd99-ff59-422b-92f2-d15df51cd664",
      "metadata": {
        "colab": {
          "base_uri": "https://localhost:8080/"
        },
        "id": "5c9fbd99-ff59-422b-92f2-d15df51cd664",
        "outputId": "248a2203-3259-404d-e5ea-65b8ad3559cd"
      },
      "outputs": [
        {
          "output_type": "stream",
          "name": "stdout",
          "text": [
            "Hello\n"
          ]
        }
      ],
      "source": [
        "sentence = \"Hello, world!\"\n",
        "print(sentence[:5])\n"
      ]
    },
    {
      "cell_type": "markdown",
      "id": "0df9d70f-f137-4c60-b600-dd0809f74d5b",
      "metadata": {
        "id": "0df9d70f-f137-4c60-b600-dd0809f74d5b"
      },
      "source": [
        "# 아래 문자열의 왼쪽 공백을 제거하세요.\n",
        "text = \"   Python is awesome!\"\n"
      ]
    },
    {
      "cell_type": "code",
      "execution_count": 69,
      "id": "95633f8d-0a7a-4776-a83e-d749b106c9a3",
      "metadata": {
        "colab": {
          "base_uri": "https://localhost:8080/"
        },
        "id": "95633f8d-0a7a-4776-a83e-d749b106c9a3",
        "outputId": "ed188550-bfeb-469d-880b-ff5631e9bfa1"
      },
      "outputs": [
        {
          "output_type": "stream",
          "name": "stdout",
          "text": [
            "python is awesome!\n"
          ]
        }
      ],
      "source": [
        "text = \" Python is awesome!\"\n",
        "text = \"python is awesome!\"\n",
        "print(text)"
      ]
    },
    {
      "cell_type": "markdown",
      "id": "bf45943b-8fc3-43ac-b860-664060968a2a",
      "metadata": {
        "id": "bf45943b-8fc3-43ac-b860-664060968a2a"
      },
      "source": [
        "# 정수 10을 변수 num에 저장하세요.\n"
      ]
    },
    {
      "cell_type": "code",
      "execution_count": 63,
      "id": "8bb46257-f806-4b55-81a8-d4f3203d0eae",
      "metadata": {
        "colab": {
          "base_uri": "https://localhost:8080/"
        },
        "id": "8bb46257-f806-4b55-81a8-d4f3203d0eae",
        "outputId": "33b4d7d7-40a3-4c43-ae22-1a4c16e847ee"
      },
      "outputs": [
        {
          "output_type": "execute_result",
          "data": {
            "text/plain": [
              "10"
            ]
          },
          "metadata": {},
          "execution_count": 63
        }
      ],
      "source": [
        "num = 10\n",
        "num"
      ]
    },
    {
      "cell_type": "markdown",
      "id": "6f416f7a-ebf7-4e57-b03b-562e13c3cdb1",
      "metadata": {
        "id": "6f416f7a-ebf7-4e57-b03b-562e13c3cdb1"
      },
      "source": [
        "# 변수 x에서 y를 뺀 결과를 출력하세요.\n",
        "x = 50\n",
        "y = 23\n"
      ]
    },
    {
      "cell_type": "code",
      "execution_count": 70,
      "id": "f7f921b5-58c6-4614-ad24-e276aa79c90e",
      "metadata": {
        "colab": {
          "base_uri": "https://localhost:8080/"
        },
        "id": "f7f921b5-58c6-4614-ad24-e276aa79c90e",
        "outputId": "ac37fa20-aa8a-46cc-dee8-c7f5f644f410"
      },
      "outputs": [
        {
          "output_type": "execute_result",
          "data": {
            "text/plain": [
              "27"
            ]
          },
          "metadata": {},
          "execution_count": 70
        }
      ],
      "source": [
        "x = 50\n",
        "y = 23\n",
        "x-y"
      ]
    },
    {
      "cell_type": "markdown",
      "id": "d7df0e1f-9551-40a6-8d85-87ffca9f172b",
      "metadata": {
        "id": "d7df0e1f-9551-40a6-8d85-87ffca9f172b"
      },
      "source": [
        "# 변수 num1을 num2로 나눈 결과를 출력하세요.\n",
        "num1 = 25\n",
        "num2 = 4\n"
      ]
    },
    {
      "cell_type": "code",
      "execution_count": 72,
      "id": "076533e5-b23e-432b-bd92-448fee42f82b",
      "metadata": {
        "colab": {
          "base_uri": "https://localhost:8080/"
        },
        "id": "076533e5-b23e-432b-bd92-448fee42f82b",
        "outputId": "e97a99c8-6d87-40bc-bff3-1b98e3a26fb5"
      },
      "outputs": [
        {
          "output_type": "execute_result",
          "data": {
            "text/plain": [
              "6.25"
            ]
          },
          "metadata": {},
          "execution_count": 72
        }
      ],
      "source": [
        "num1 = 25\n",
        "num2 = 4\n",
        "num1/num2"
      ]
    },
    {
      "cell_type": "markdown",
      "id": "893f056e-a9ce-4048-8d59-01eb423b7c1c",
      "metadata": {
        "id": "893f056e-a9ce-4048-8d59-01eb423b7c1c"
      },
      "source": [
        "# 2의 5제곱을 계산하여 출력하세요.\n"
      ]
    },
    {
      "cell_type": "code",
      "execution_count": 74,
      "id": "8ab46c87-0a82-49b2-8819-c3b788bebcba",
      "metadata": {
        "colab": {
          "base_uri": "https://localhost:8080/"
        },
        "id": "8ab46c87-0a82-49b2-8819-c3b788bebcba",
        "outputId": "0dbf17c6-c8f6-433b-fe3e-f0f54be5e053"
      },
      "outputs": [
        {
          "output_type": "stream",
          "name": "stdout",
          "text": [
            "32\n"
          ]
        }
      ],
      "source": [
        "a= 2**5\n",
        "print(a)"
      ]
    },
    {
      "cell_type": "markdown",
      "id": "6931a694-b2ca-4724-aa98-077ae8127205",
      "metadata": {
        "id": "6931a694-b2ca-4724-aa98-077ae8127205"
      },
      "source": [
        "# 변수 num에 10을 더한 값을 저장하고 출력하세요.(복합연산자 사용!)\n",
        "num = 5\n"
      ]
    },
    {
      "cell_type": "code",
      "execution_count": 76,
      "id": "f08ffe7a-72a7-48ab-8027-62f10f471c7a",
      "metadata": {
        "colab": {
          "base_uri": "https://localhost:8080/"
        },
        "id": "f08ffe7a-72a7-48ab-8027-62f10f471c7a",
        "outputId": "55d71dda-7acd-484e-9090-73e911003487"
      },
      "outputs": [
        {
          "output_type": "stream",
          "name": "stdout",
          "text": [
            "15\n"
          ]
        }
      ],
      "source": [
        "num = 5\n",
        "num +=10\n",
        "print(num)"
      ]
    },
    {
      "cell_type": "markdown",
      "id": "2ad769ba-02cc-4f64-ab90-9f75d0511a30",
      "metadata": {
        "id": "2ad769ba-02cc-4f64-ab90-9f75d0511a30"
      },
      "source": [
        "# 괄호를 사용하여 10 + 2를 먼저 계산하도록 수정하고 결과를 출력하세요.\n",
        "result = 10 + 2 * 3\n"
      ]
    },
    {
      "cell_type": "code",
      "execution_count": 77,
      "id": "46997b3c-d1e1-4ff3-91e9-54fcf91a5f89",
      "metadata": {
        "colab": {
          "base_uri": "https://localhost:8080/"
        },
        "id": "46997b3c-d1e1-4ff3-91e9-54fcf91a5f89",
        "outputId": "59a47e76-37c5-400a-e7b2-5d41306b89e7"
      },
      "outputs": [
        {
          "output_type": "stream",
          "name": "stdout",
          "text": [
            "36\n"
          ]
        }
      ],
      "source": [
        "result = (10 + 2 )* 3\n",
        "print(result)"
      ]
    },
    {
      "cell_type": "markdown",
      "id": "92c4f14a-5671-4859-885a-328e6d6f62c0",
      "metadata": {
        "id": "92c4f14a-5671-4859-885a-328e6d6f62c0"
      },
      "source": [
        "# type()을 이용하여 정수 2의 타입을 확인해보자 --> a=2로 변수 할당 후 type(a) 출력"
      ]
    },
    {
      "cell_type": "code",
      "execution_count": 78,
      "id": "a6c6b183-dbcb-44c0-939a-8b8ee523aec5",
      "metadata": {
        "colab": {
          "base_uri": "https://localhost:8080/"
        },
        "id": "a6c6b183-dbcb-44c0-939a-8b8ee523aec5",
        "outputId": "ee547090-e5e5-467a-81a7-569a99c84c84"
      },
      "outputs": [
        {
          "output_type": "execute_result",
          "data": {
            "text/plain": [
              "int"
            ]
          },
          "metadata": {},
          "execution_count": 78
        }
      ],
      "source": [
        "a = 2\n",
        "type(a)"
      ]
    },
    {
      "cell_type": "markdown",
      "id": "8d2789d3-acf3-41b3-8a5f-fb27eac5a296",
      "metadata": {
        "id": "8d2789d3-acf3-41b3-8a5f-fb27eac5a296"
      },
      "source": [
        "# a를 정수형에서 실수형으로 타입을 바꾸고 확인해보자. --> float() 사용하고 type()으로 확인"
      ]
    },
    {
      "cell_type": "code",
      "execution_count": 84,
      "id": "2f2d9f82-d448-4c1a-8eb2-4f026e5c4702",
      "metadata": {
        "colab": {
          "base_uri": "https://localhost:8080/"
        },
        "id": "2f2d9f82-d448-4c1a-8eb2-4f026e5c4702",
        "outputId": "e83a0625-df52-4eb1-82d9-6a8c45187566"
      },
      "outputs": [
        {
          "output_type": "execute_result",
          "data": {
            "text/plain": [
              "float"
            ]
          },
          "metadata": {},
          "execution_count": 84
        }
      ],
      "source": [
        "a=2\n",
        "a= float(a)\n",
        "type(a)"
      ]
    },
    {
      "cell_type": "markdown",
      "id": "576cf768-6b99-45c2-b6be-0801c0e94b90",
      "metadata": {
        "id": "576cf768-6b99-45c2-b6be-0801c0e94b90"
      },
      "source": [
        "# 29를 5로 나눈 몫과 나머지를 각각 출력하세요.\n"
      ]
    },
    {
      "cell_type": "code",
      "execution_count": 90,
      "id": "92d0cb95-d029-4331-b827-9a9c02b12522",
      "metadata": {
        "colab": {
          "base_uri": "https://localhost:8080/"
        },
        "id": "92d0cb95-d029-4331-b827-9a9c02b12522",
        "outputId": "13026035-321c-4a3c-8dd6-263e144a3462"
      },
      "outputs": [
        {
          "output_type": "stream",
          "name": "stdout",
          "text": [
            "5 4\n"
          ]
        }
      ],
      "source": [
        "a= 29//5\n",
        "b= 39%5\n",
        "print(a,b)"
      ]
    },
    {
      "cell_type": "markdown",
      "id": "0dc61c08-4165-4e09-b321-67471ec27f19",
      "metadata": {
        "id": "0dc61c08-4165-4e09-b321-67471ec27f19"
      },
      "source": [
        "# 변수 pi에 3.1415926535를 저장하고, 소수점 둘째 자리까지 반올림하여 출력하세요.\n",
        "pi = 3.1415926535\n"
      ]
    },
    {
      "cell_type": "code",
      "execution_count": 92,
      "id": "fc7be8a9-46ae-4f0f-9f1c-55467eb87a2c",
      "metadata": {
        "colab": {
          "base_uri": "https://localhost:8080/"
        },
        "id": "fc7be8a9-46ae-4f0f-9f1c-55467eb87a2c",
        "outputId": "c9ee0fff-591a-4f8f-9946-88e4fd1b27ea"
      },
      "outputs": [
        {
          "output_type": "stream",
          "name": "stdout",
          "text": [
            "3.14\n"
          ]
        }
      ],
      "source": [
        "pi = 3.1415926535\n",
        "pi_2 = round(pi,2)\n",
        "print(pi_2)\n"
      ]
    },
    {
      "cell_type": "markdown",
      "id": "069cd5a0-8956-40ee-ad50-e7d753b456e0",
      "metadata": {
        "id": "069cd5a0-8956-40ee-ad50-e7d753b456e0"
      },
      "source": [
        "# 리스트 문제\n",
        "\n",
        "numbers = [5, 12, 7, 3, 9, 7, 1, 4, 7, 6]\n"
      ]
    },
    {
      "cell_type": "markdown",
      "id": "99dae400-0a47-482e-a9a6-5f1e151677e2",
      "metadata": {
        "id": "99dae400-0a47-482e-a9a6-5f1e151677e2"
      },
      "source": [
        "## numbers 리스트에 들어있는 요소의 개수를 출력하세요."
      ]
    },
    {
      "cell_type": "code",
      "execution_count": 101,
      "id": "62dd6477-a472-46b8-890b-f9422709a462",
      "metadata": {
        "colab": {
          "base_uri": "https://localhost:8080/"
        },
        "id": "62dd6477-a472-46b8-890b-f9422709a462",
        "outputId": "16aae589-f140-4cce-a86c-f370ee0a699c"
      },
      "outputs": [
        {
          "output_type": "stream",
          "name": "stdout",
          "text": [
            "10\n"
          ]
        }
      ],
      "source": [
        "numbers = [5, 12, 7, 3, 9, 7, 1, 4, 7, 6]\n",
        "print(len(numbers))\n"
      ]
    },
    {
      "cell_type": "markdown",
      "id": "274b7f80-9098-4eeb-b44d-104dac009976",
      "metadata": {
        "id": "274b7f80-9098-4eeb-b44d-104dac009976"
      },
      "source": [
        "## 리스트에서 숫자 7이 몇 번 등장하는지 출력하세요.(count사용)"
      ]
    },
    {
      "cell_type": "code",
      "execution_count": 102,
      "id": "4be31126-7f09-4b2a-8aa6-f195ad8db38c",
      "metadata": {
        "colab": {
          "base_uri": "https://localhost:8080/"
        },
        "id": "4be31126-7f09-4b2a-8aa6-f195ad8db38c",
        "outputId": "2b6812ac-8921-4fa0-c3d9-8c7f8ea936b9"
      },
      "outputs": [
        {
          "output_type": "stream",
          "name": "stdout",
          "text": [
            "3\n"
          ]
        }
      ],
      "source": [
        "numbers = [5, 12, 7, 3, 9, 7, 1, 4, 7, 6]\n",
        "print(numbers.count(7))\n"
      ]
    },
    {
      "cell_type": "markdown",
      "id": "60bb1078-a572-4fbf-993c-d91232657bcf",
      "metadata": {
        "id": "60bb1078-a572-4fbf-993c-d91232657bcf"
      },
      "source": [
        "## 1.numbers 리스트를 오름차순으로 정렬한 후 출력하세요.\n",
        "## 2.정렬 후 리스트를 내림차순으로 정렬하여 다시 출력하세요."
      ]
    },
    {
      "cell_type": "code",
      "execution_count": 108,
      "id": "35e9914f-12e7-4fd9-87ce-bb5f991688a6",
      "metadata": {
        "colab": {
          "base_uri": "https://localhost:8080/"
        },
        "id": "35e9914f-12e7-4fd9-87ce-bb5f991688a6",
        "outputId": "f273dca8-a411-45f8-f10a-84b893e30ae9"
      },
      "outputs": [
        {
          "output_type": "stream",
          "name": "stdout",
          "text": [
            "[1, 3, 4, 5, 6, 7, 7, 7, 9, 12]\n",
            "[12, 9, 7, 7, 7, 6, 5, 4, 3, 1]\n"
          ]
        }
      ],
      "source": [
        "numbers = [5, 12, 7, 3, 9, 7, 1, 4, 7, 6]\n",
        "numbers.sort()\n",
        "\n",
        "print(numbers)\n",
        "###111\n",
        "numbers.reverse()\n",
        "print(numbers)\n",
        "\n"
      ]
    },
    {
      "cell_type": "markdown",
      "id": "3c2ac1b5-b22f-4b1d-911f-b15626fee5ba",
      "metadata": {
        "id": "3c2ac1b5-b22f-4b1d-911f-b15626fee5ba"
      },
      "source": [
        "## 리스트에서 숫자 9가 위치한 인덱스를 출력하세요."
      ]
    },
    {
      "cell_type": "code",
      "execution_count": 109,
      "id": "c02705a2-8e88-4baf-bd48-8f7c5136ce03",
      "metadata": {
        "colab": {
          "base_uri": "https://localhost:8080/"
        },
        "id": "c02705a2-8e88-4baf-bd48-8f7c5136ce03",
        "outputId": "b9e3943f-6e06-4172-88d9-e12a4b0f0a25"
      },
      "outputs": [
        {
          "output_type": "stream",
          "name": "stdout",
          "text": [
            "1\n"
          ]
        }
      ],
      "source": [
        "print(numbers.index(9))"
      ]
    },
    {
      "cell_type": "markdown",
      "id": "13148bb4-a0dd-43a2-990d-57371dd218fe",
      "metadata": {
        "id": "13148bb4-a0dd-43a2-990d-57371dd218fe"
      },
      "source": [
        "## 1.리스트의 첫 번째 요소를 99로 변경하고 출력하세요.\n",
        "## 2.리스트의 마지막 요소를 0으로 변경하고 출력하세요."
      ]
    },
    {
      "cell_type": "code",
      "execution_count": 120,
      "id": "37e5c9ea-2b14-4b50-b2a3-75d4b61b053a",
      "metadata": {
        "colab": {
          "base_uri": "https://localhost:8080/"
        },
        "id": "37e5c9ea-2b14-4b50-b2a3-75d4b61b053a",
        "outputId": "8cabea66-dd62-4fba-b848-3157653cef52"
      },
      "outputs": [
        {
          "output_type": "stream",
          "name": "stdout",
          "text": [
            "[99, 12, 7, 3, 9, 7, 1, 4, 7, 6]\n",
            "[99, 12, 7, 3, 9, 7, 1, 4, 7, 0]\n"
          ]
        }
      ],
      "source": [
        "numbers = [5, 12, 7, 3, 9, 7, 1, 4, 7, 6]\n",
        "numbers[0]=99\n",
        "print(numbers)\n",
        "\n",
        "#print(len(numbers))\n",
        "numbers[9] = 0\n",
        "print(numbers)"
      ]
    },
    {
      "cell_type": "markdown",
      "id": "ae683446-f190-469f-a362-30e078587c59",
      "metadata": {
        "id": "ae683446-f190-469f-a362-30e078587c59"
      },
      "source": [
        "## 인덱스 3 위치에 숫자 100을 삽입하고 출력하세요."
      ]
    },
    {
      "cell_type": "code",
      "execution_count": 171,
      "id": "40f92c21-d196-455b-8e71-64f6ab78e914",
      "metadata": {
        "colab": {
          "base_uri": "https://localhost:8080/"
        },
        "id": "40f92c21-d196-455b-8e71-64f6ab78e914",
        "outputId": "c6f72347-2989-4a29-a60c-844d5b2939c5"
      },
      "outputs": [
        {
          "output_type": "stream",
          "name": "stdout",
          "text": [
            "[5, 12, 3, 100, 9, 1, 4, 7]\n"
          ]
        }
      ],
      "source": [
        "numbers.insert(3,100)\n",
        "print(numbers)"
      ]
    },
    {
      "cell_type": "markdown",
      "id": "db8f8468-c6fd-480f-83eb-c7706341a6c0",
      "metadata": {
        "id": "db8f8468-c6fd-480f-83eb-c7706341a6c0"
      },
      "source": [
        "## 1.del을 사용하여 리스트의 두 번째 요소를 삭제하고 출력하세요.\n",
        "## 2.remove를 사용하여 숫자 7을 한 개 삭제하고 출력하세요.\n",
        "## 3.pop을 사용하여 마지막 요소를 꺼내어 출력하고, 변경된 리스트도 출력하세요"
      ]
    },
    {
      "cell_type": "code",
      "execution_count": 166,
      "id": "ebaf1f47-df37-476c-9063-532fb4039f0d",
      "metadata": {
        "colab": {
          "base_uri": "https://localhost:8080/"
        },
        "id": "ebaf1f47-df37-476c-9063-532fb4039f0d",
        "outputId": "d24af11b-5670-4304-fa07-9659a42c1350"
      },
      "outputs": [
        {
          "output_type": "stream",
          "name": "stdout",
          "text": [
            "[5, 12, 3, 9, 7, 1, 4, 7, 6]\n",
            "[5, 12, 3, 9, 1, 4, 7, 6]\n",
            "[5, 12, 3, 9, 1, 4, 7]\n"
          ]
        }
      ],
      "source": [
        "numbers = [5, 12, 7, 3, 9, 7, 1, 4, 7, 6]\n",
        "del numbers[2]\n",
        "print(numbers)\n",
        "\n",
        "numbers.remove(7)\n",
        "print(numbers)\n",
        "\n",
        "numbers.pop()\n",
        "print(numbers)"
      ]
    },
    {
      "cell_type": "markdown",
      "id": "61da48e1-a318-46b3-840e-50607ccd4101",
      "metadata": {
        "id": "61da48e1-a318-46b3-840e-50607ccd4101"
      },
      "source": [
        "## del과 remove와 pop의 차이에 대하여 간단히 적어보자."
      ]
    },
    {
      "cell_type": "code",
      "execution_count": null,
      "id": "3c24e5e9-a2af-449b-9821-dac0e26d1666",
      "metadata": {
        "id": "3c24e5e9-a2af-449b-9821-dac0e26d1666"
      },
      "outputs": [],
      "source": [
        "#### del은 그인덱스에있는 값을 삭제 remove는 특정값 제거( 문자도 돠는지는 모르겠음) pop은 맨마지막 인덱스값 삭제"
      ]
    },
    {
      "cell_type": "markdown",
      "id": "443669d2-86b9-42ef-9dd9-b583dc1c80df",
      "metadata": {
        "id": "443669d2-86b9-42ef-9dd9-b583dc1c80df"
      },
      "source": [
        "## 리스트의 순서를 반대로 뒤집고 출력하세요."
      ]
    },
    {
      "cell_type": "code",
      "execution_count": 178,
      "id": "708c8f65-fb3c-460f-a028-5b4ec021b07c",
      "metadata": {
        "colab": {
          "base_uri": "https://localhost:8080/"
        },
        "id": "708c8f65-fb3c-460f-a028-5b4ec021b07c",
        "outputId": "58d79365-fb17-41cd-ad25-2b1e9f1783c7"
      },
      "outputs": [
        {
          "output_type": "stream",
          "name": "stdout",
          "text": [
            "[4, 3, 2, 1]\n"
          ]
        }
      ],
      "source": [
        "a = [1,2,3,4]\n",
        "a.reverse()\n",
        "print(a)"
      ]
    },
    {
      "cell_type": "markdown",
      "id": "c8cafaa4-2bd0-4b53-b0da-34bed28c8e82",
      "metadata": {
        "id": "c8cafaa4-2bd0-4b53-b0da-34bed28c8e82"
      },
      "source": [
        "## [8, 10, 15] 리스트를 numbers 리스트에 확장하여 추가하고 출력하세요."
      ]
    },
    {
      "cell_type": "code",
      "execution_count": 180,
      "id": "e1a2d841-f78e-4904-810f-014e6c51abbe",
      "metadata": {
        "colab": {
          "base_uri": "https://localhost:8080/"
        },
        "id": "e1a2d841-f78e-4904-810f-014e6c51abbe",
        "outputId": "94dc7738-9e2d-4c05-a33d-7ff04444e1e4"
      },
      "outputs": [
        {
          "output_type": "stream",
          "name": "stdout",
          "text": [
            "[5, 12, 7, 3, 9, 7, 1, 4, 7, 6, 8, 10, 15]\n"
          ]
        }
      ],
      "source": [
        "b= [8,10,15]\n",
        "numbers = [5, 12, 7, 3, 9, 7, 1, 4, 7, 6]\n",
        "numbers += b\n",
        "print(numbers)"
      ]
    },
    {
      "cell_type": "markdown",
      "id": "7543fe53-181b-4b01-95a3-e8e3eb0caab1",
      "metadata": {
        "id": "7543fe53-181b-4b01-95a3-e8e3eb0caab1"
      },
      "source": [
        "## 1.리스트에서 처음 5개의 요소만 슬라이싱하여 출력하세요.\n",
        "## 2.리스트의 마지막 3개의 요소만 슬라이싱하여 출력하세요.\n",
        "## 3.리스트의 짝수 번째 요소(0, 2, 4, …)만 출력하세요.\n"
      ]
    },
    {
      "cell_type": "code",
      "execution_count": 199,
      "id": "7cef40ff-5646-4934-b826-62616f3a7238",
      "metadata": {
        "colab": {
          "base_uri": "https://localhost:8080/"
        },
        "id": "7cef40ff-5646-4934-b826-62616f3a7238",
        "outputId": "69b7b6a9-74f0-4583-ad8f-5475603f298d"
      },
      "outputs": [
        {
          "output_type": "stream",
          "name": "stdout",
          "text": [
            "[1, 2, 3, 4, 5]\n",
            "[4, 5, 6]\n",
            "[1, 3, 5]\n"
          ]
        }
      ],
      "source": [
        "a = [ 1, 2, 3, 4, 5, 6]\n",
        "print(a[:5])\n",
        "print(a[3:6])\n",
        "print(a[::2])\n"
      ]
    },
    {
      "cell_type": "markdown",
      "id": "c651953f-4785-4550-89cf-8ab8d99e67f8",
      "metadata": {
        "id": "c651953f-4785-4550-89cf-8ab8d99e67f8"
      },
      "source": [
        "##  슈퍼마켓 재고 관리 시스템\n",
        "슈퍼마켓에는 여러 종류의 과일이 있다. 현재 슈퍼마켓의 과일 재고는 다음과 같다.\n",
        "\n",
        "\n",
        "fruits = [\"사과\", \"바나나\", \"포도\", \"오렌지\", \"수박\"]\n",
        "\n",
        "\n",
        "1) 손님이 와서 \"포도\"를 구매했다. 리스트에서 \"포도\"를 삭제하고 출력하세요.\n",
        "\n",
        "2) 새로운 과일 \"망고\"가 입고되었다. 리스트에 추가하고 출력하세요.\n",
        "\n",
        "3) 가게 사장이 과일을 가나다순으로 정리하려고 한다. 정렬해서 출력하세요.\n",
        "\n",
        "4) \"바나나\"가 얼마나 남아 있는지 확인하려고 한다. 리스트에서 \"바나나\"가 몇 개 있는지 출력하세요."
      ]
    },
    {
      "cell_type": "code",
      "execution_count": 221,
      "id": "66077801-aa17-4069-bd38-1bc65f6a25c6",
      "metadata": {
        "colab": {
          "base_uri": "https://localhost:8080/"
        },
        "id": "66077801-aa17-4069-bd38-1bc65f6a25c6",
        "outputId": "3c72927e-f6e7-4752-c5b0-f7b72566129d"
      },
      "outputs": [
        {
          "output_type": "stream",
          "name": "stdout",
          "text": [
            "['사과', '바나나', '오렌지', '수박']\n",
            "['사과', '바나나', '오렌지', '수박', '망고']\n",
            "['망고', '바나나', '사과', '수박', '오렌지']\n",
            "1\n"
          ]
        }
      ],
      "source": [
        "fruits = [\"사과\", \"바나나\", \"포도\", \"오렌지\", \"수박\"]\n",
        "fruits.remove(\"포도\")\n",
        "print(fruits)\n",
        "fruits.append(\"망고\")\n",
        "print(fruits)\n",
        "fruits.sort()\n",
        "print(fruits)\n",
        "print(fruits.count(\"바나나\"))\n",
        "\n"
      ]
    }
  ],
  "metadata": {
    "kernelspec": {
      "display_name": "geeclass",
      "language": "python",
      "name": "gee"
    },
    "language_info": {
      "codemirror_mode": {
        "name": "ipython",
        "version": 3
      },
      "file_extension": ".py",
      "mimetype": "text/x-python",
      "name": "python",
      "nbconvert_exporter": "python",
      "pygments_lexer": "ipython3",
      "version": "3.12.2"
    },
    "colab": {
      "provenance": []
    }
  },
  "nbformat": 4,
  "nbformat_minor": 5
}